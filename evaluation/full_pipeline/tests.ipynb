{
 "cells": [
  {
   "cell_type": "code",
   "execution_count": 1,
   "metadata": {},
   "outputs": [
    {
     "name": "stderr",
     "output_type": "stream",
     "text": [
      "/root/miniconda3/envs/layout_analysis/lib/python3.12/site-packages/tqdm/auto.py:22: TqdmWarning: IProgress not found. Please update jupyter and ipywidgets. See https://ipywidgets.readthedocs.io/en/stable/user_install.html\n",
      "  from .autonotebook import tqdm as notebook_tqdm\n",
      "\u001b[32m[0725 06:11.21 @file_utils.py:36]\u001b[0m  \u001b[32mINF\u001b[0m  \u001b[97mPyTorch version 2.3.0 available.\u001b[0m\n"
     ]
    }
   ],
   "source": [
    "%load_ext autoreload\n",
    "%autoreload 2\n",
    "\n",
    "import json\n",
    "import sys\n",
    "import os\n",
    "# base_path = os.path.abspath(os.path.join(os.getcwd(), os.pardir, os.pardir))\n",
    "# sys.path.append(base_path)\n",
    "\n",
    "base_path = os.path.abspath(os.path.join(os.getcwd(), os.pardir, '../../MERI/'))\n",
    "sys.path.append(base_path)\n",
    "\n",
    "from evaluation.datasets import PopulatedSchemaDataset\n",
    "import json\n",
    "import glob\n",
    "from pathlib import Path\n",
    "from meri.meri import MERI\n",
    "from jsonpath_ng.jsonpath import DatumInContext\n",
    "from jsonpath_ng import parse\n",
    "from typing import List\n",
    "import fnmatch\n",
    "import re\n",
    "\n",
    "from full_pipeline_evaluator import build_jsonpath_queries, ExtractionResultItem, ExtractionResults"
   ]
  },
  {
   "cell_type": "code",
   "execution_count": 2,
   "metadata": {},
   "outputs": [],
   "source": [
    "dataset = PopulatedSchemaDataset(json_schema_dir=\"/workspaces/MERI/data/json_schema\", gt_populated_dir=\"/workspaces/MERI/data/gt_populated_schema\", datasheets_dir=\"/workspaces/MERI/data/datasheets\")"
   ]
  },
  {
   "cell_type": "code",
   "execution_count": 3,
   "metadata": {},
   "outputs": [],
   "source": [
    "pdf_path, schema, parameters_gt = dataset.__getitem__(0)\n",
    "meri = MERI(pdf_path=pdf_path, config_yaml_path='/workspaces/MERI/meri/configs/meri_default.yaml')"
   ]
  },
  {
   "cell_type": "code",
   "execution_count": 4,
   "metadata": {},
   "outputs": [
    {
     "name": "stderr",
     "output_type": "stream",
     "text": [
      "\u001b[32m[0725 06:11.25 @config.py:66]\u001b[0m  \u001b[5m\u001b[35mWRN\u001b[0m  \u001b[97mLoading config /root/.cache/deepdoctection/configs/dd/d2/layout/CASCADE_RCNN_R_50_FPN_GN.yaml with yaml.unsafe_load. Your machine may be at risk if the file contains malicious content.\u001b[0m\n"
     ]
    },
    {
     "name": "stdout",
     "output_type": "stream",
     "text": [
      "Running configuration:  <bound method AttrDict.to_dict of {'DEVICE': 'cuda',\n",
      " 'LIB': 'PT',\n",
      " 'PT': {'LAYOUT': {'FILTER': ['table', 'figure'],\n",
      "                   'WEIGHTS': 'layout/d2_model_0829999_layout_inf_only.pt'}}}>\n"
     ]
    },
    {
     "name": "stderr",
     "output_type": "stream",
     "text": [
      "\u001b[32m[0725 06:11.27 @detection_checkpoint.py:38]\u001b[0m  \u001b[32mINF\u001b[0m  \u001b[97m[DetectionCheckpointer] Loading from /root/.cache/deepdoctection/weights/layout/d2_model_0829999_layout_inf_only.pt ...\u001b[0m\n",
      "\u001b[32m[0725 06:11.27 @checkpoint.py:150]\u001b[0m  \u001b[32mINF\u001b[0m  \u001b[97m[Checkpointer] Loading from /root/.cache/deepdoctection/weights/layout/d2_model_0829999_layout_inf_only.pt ...\u001b[0m\n",
      "You are using a model of type table-transformer to instantiate a model of type . This is not supported for all configurations of models and can yield errors.\n",
      "\u001b[32m[0725 06:11.28 @_builder.py:187]\u001b[0m  \u001b[32mINF\u001b[0m  \u001b[97mLoading pretrained weights from Hugging Face hub (timm/resnet18.a1_in1k)\u001b[0m\n"
     ]
    },
    {
     "name": "stdout",
     "output_type": "stream",
     "text": [
      "Running configuration:  <bound method AttrDict.to_dict of {'DEVICE': 'cuda',\n",
      " 'LIB': 'PT',\n",
      " 'PT': {'LAYOUT': {'FILTER': None,\n",
      "                   'WEIGHTS': 'microsoft/table-transformer-detection/pytorch_model.bin'}}}>\n"
     ]
    },
    {
     "name": "stderr",
     "output_type": "stream",
     "text": [
      "\u001b[32m[0725 06:11.28 @_hub.py:180]\u001b[0m  \u001b[32mINF\u001b[0m  \u001b[97m[timm/resnet18.a1_in1k] Safe alternative available for 'pytorch_model.bin' (as 'model.safetensors'). Loading weights using safetensors.\u001b[0m\n",
      "\u001b[32m[0725 06:11.28 @_builder.py:245]\u001b[0m  \u001b[32mINF\u001b[0m  \u001b[97mMissing keys (fc.weight, fc.bias) discovered while loading pretrained weights. This is expected if model is being adapted.\u001b[0m\n",
      "Some weights of the model checkpoint at /root/.cache/deepdoctection/weights/microsoft/table-transformer-detection/pytorch_model.bin were not used when initializing TableTransformerForObjectDetection: ['model.backbone.conv_encoder.model.layer2.0.downsample.1.num_batches_tracked', 'model.backbone.conv_encoder.model.layer3.0.downsample.1.num_batches_tracked', 'model.backbone.conv_encoder.model.layer4.0.downsample.1.num_batches_tracked']\n",
      "- This IS expected if you are initializing TableTransformerForObjectDetection from the checkpoint of a model trained on another task or with another architecture (e.g. initializing a BertForSequenceClassification model from a BertForPreTraining model).\n",
      "- This IS NOT expected if you are initializing TableTransformerForObjectDetection from the checkpoint of a model that you expect to be exactly identical (initializing a BertForSequenceClassification model from a BertForSequenceClassification model).\n",
      "/root/miniconda3/envs/layout_analysis/lib/python3.12/site-packages/transformers/models/detr/feature_extraction_detr.py:38: FutureWarning: The class DetrFeatureExtractor is deprecated and will be removed in version 5 of Transformers. Please use DetrImageProcessor instead.\n",
      "  warnings.warn(\n",
      "The `max_size` parameter is deprecated and will be removed in v4.26. Please specify in `size['longest_edge'] instead`.\n",
      "\u001b[32m[0725 06:11.29 @config.py:66]\u001b[0m  \u001b[5m\u001b[35mWRN\u001b[0m  \u001b[97mLoading config /root/.cache/deepdoctection/configs/dd/d2/layout/CASCADE_RCNN_R_50_FPN_GN.yaml with yaml.unsafe_load. Your machine may be at risk if the file contains malicious content.\u001b[0m\n"
     ]
    },
    {
     "name": "stdout",
     "output_type": "stream",
     "text": [
      "Running configuration:  <bound method AttrDict.to_dict of {'DEVICE': 'cuda',\n",
      " 'LIB': 'PT',\n",
      " 'PT': {'LAYOUT': {'FILTER': ['text', 'title', 'list', 'table'],\n",
      "                   'WEIGHTS': 'layout/d2_model_0829999_layout_inf_only.pt'}}}>\n"
     ]
    },
    {
     "name": "stderr",
     "output_type": "stream",
     "text": [
      "\u001b[32m[0725 06:11.30 @detection_checkpoint.py:38]\u001b[0m  \u001b[32mINF\u001b[0m  \u001b[97m[DetectionCheckpointer] Loading from /root/.cache/deepdoctection/weights/layout/d2_model_0829999_layout_inf_only.pt ...\u001b[0m\n",
      "\u001b[32m[0725 06:11.30 @checkpoint.py:150]\u001b[0m  \u001b[32mINF\u001b[0m  \u001b[97m[Checkpointer] Loading from /root/.cache/deepdoctection/weights/layout/d2_model_0829999_layout_inf_only.pt ...\u001b[0m\n"
     ]
    },
    {
     "name": "stdout",
     "output_type": "stream",
     "text": [
      "Building pipeline from components:  [<meri.layout.pipeline_components.add_pdf_info_component.AddPDFInfoComponent object at 0x7f04941f7500>, <meri.layout.pipeline_components.image_detector_component.ImageDetectorComponent object at 0x7f030a656420>, <meri.layout.pipeline_components.layout_detection_component.LayoutDetectorComponent object at 0x7f030b09c4a0>, <meri.layout.pipeline_components.layout_detection_component.LayoutDetectorComponent object at 0x7f030a7549e0>, <meri.layout.pipeline_components.layout_detection_component.LayoutDetectorComponent object at 0x7f030a5bcc20>, <meri.layout.pipeline_components.table_plumber_detector_component.TablePlumberComponent object at 0x7f030a6d36b0>, <meri.layout.pipeline_components.nms_component.NMSComponent object at 0x7f030ba1ee70>, <meri.layout.pipeline_components.ocr_component.OCRComponent object at 0x7f030a4cb620>, <meri.layout.pipeline_components.word_union_component.WordUnionComponent object at 0x7f030a33eb10>]\n"
     ]
    },
    {
     "name": "stderr",
     "output_type": "stream",
     "text": [
      "\u001b[32m[0725 06:11.31 @doctectionpipe.py:84]\u001b[0m  \u001b[32mINF\u001b[0m  \u001b[97mProcessing hex_51110_403_0.pdf\u001b[0m\n",
      "\u001b[32m[0725 06:11.33 @context.py:126]\u001b[0m  \u001b[32mINF\u001b[0m  \u001b[97mAddPDFInfoComponent total: 0.1893 sec.\u001b[0m\n",
      "\u001b[32m[0725 06:11.33 @context.py:126]\u001b[0m  \u001b[32mINF\u001b[0m  \u001b[97mImageDetectorComponent total: 0.029 sec.\u001b[0m\n",
      "/root/miniconda3/envs/layout_analysis/lib/python3.12/site-packages/torch/functional.py:512: UserWarning: torch.meshgrid: in an upcoming release, it will be required to pass the indexing argument. (Triggered internally at /opt/conda/conda-bld/pytorch_1712608847532/work/aten/src/ATen/native/TensorShape.cpp:3587.)\n",
      "  return _VF.meshgrid(tensors, **kwargs)  # type: ignore[attr-defined]\n",
      "\u001b[32m[0725 06:11.38 @context.py:126]\u001b[0m  \u001b[32mINF\u001b[0m  \u001b[97mLayoutDetectorComponent total: 5.155 sec.\u001b[0m\n",
      "\u001b[32m[0725 06:11.38 @context.py:126]\u001b[0m  \u001b[32mINF\u001b[0m  \u001b[97mLayoutDetectorComponent total: 0.444 sec.\u001b[0m\n",
      "\u001b[32m[0725 06:11.39 @context.py:126]\u001b[0m  \u001b[32mINF\u001b[0m  \u001b[97mLayoutDetectorComponent total: 0.2494 sec.\u001b[0m\n",
      "\u001b[32m[0725 06:11.39 @context.py:126]\u001b[0m  \u001b[32mINF\u001b[0m  \u001b[97mTablePlumberComponent total: 0.2431 sec.\u001b[0m\n",
      "\u001b[32m[0725 06:11.39 @context.py:126]\u001b[0m  \u001b[32mINF\u001b[0m  \u001b[97mNMSComponent total: 0.0053 sec.\u001b[0m\n"
     ]
    },
    {
     "name": "stdout",
     "output_type": "stream",
     "text": [
      "Potential Tables Found: 2\n",
      "Skipped overlapping table: [133, 412, 2412, 630]\n",
      "Skipped overlapping table: [133, 735, 2414, 2893]\n"
     ]
    },
    {
     "name": "stderr",
     "output_type": "stream",
     "text": [
      "\u001b[32m[0725 06:11.40 @context.py:126]\u001b[0m  \u001b[32mINF\u001b[0m  \u001b[97mOCRComponent total: 1.4782 sec.\u001b[0m\n",
      "\u001b[32m[0725 06:11.40 @context.py:126]\u001b[0m  \u001b[32mINF\u001b[0m  \u001b[97mWordUnionComponent total: 0.0271 sec.\u001b[0m\n",
      "\u001b[32m[0725 06:11.41 @doctectionpipe.py:84]\u001b[0m  \u001b[32mINF\u001b[0m  \u001b[97mProcessing hex_51110_403_1.pdf\u001b[0m\n",
      "Syntax Error: Unknown character collection 'PDFAUTOCAD-Indentity0'\n",
      "\u001b[32m[0725 06:11.42 @context.py:126]\u001b[0m  \u001b[32mINF\u001b[0m  \u001b[97mAddPDFInfoComponent total: 0.1287 sec.\u001b[0m\n",
      "\u001b[32m[0725 06:11.42 @context.py:126]\u001b[0m  \u001b[32mINF\u001b[0m  \u001b[97mImageDetectorComponent total: 0.0453 sec.\u001b[0m\n",
      "\u001b[32m[0725 06:11.43 @context.py:126]\u001b[0m  \u001b[32mINF\u001b[0m  \u001b[97mLayoutDetectorComponent total: 0.5479 sec.\u001b[0m\n",
      "\u001b[32m[0725 06:11.43 @context.py:126]\u001b[0m  \u001b[32mINF\u001b[0m  \u001b[97mLayoutDetectorComponent total: 0.224 sec.\u001b[0m\n",
      "\u001b[32m[0725 06:11.43 @context.py:126]\u001b[0m  \u001b[32mINF\u001b[0m  \u001b[97mLayoutDetectorComponent total: 0.2636 sec.\u001b[0m\n",
      "\u001b[32m[0725 06:11.45 @context.py:126]\u001b[0m  \u001b[32mINF\u001b[0m  \u001b[97mTablePlumberComponent total: 1.3874 sec.\u001b[0m\n",
      "\u001b[32m[0725 06:11.45 @context.py:126]\u001b[0m  \u001b[32mINF\u001b[0m  \u001b[97mNMSComponent total: 0.0013 sec.\u001b[0m\n"
     ]
    },
    {
     "name": "stdout",
     "output_type": "stream",
     "text": [
      "Skipped overlapping table: [2198, 322, 3666, 1744]\n",
      "Potential Tables Found: 2\n",
      "Skipped overlapping table: [274, 1160, 4469, 1785]\n",
      "Skipped overlapping table: [155, 2962, 4880, 3421]\n"
     ]
    },
    {
     "name": "stderr",
     "output_type": "stream",
     "text": [
      "\u001b[32m[0725 06:11.47 @context.py:126]\u001b[0m  \u001b[32mINF\u001b[0m  \u001b[97mOCRComponent total: 1.6599 sec.\u001b[0m\n",
      "\u001b[32m[0725 06:11.47 @context.py:126]\u001b[0m  \u001b[32mINF\u001b[0m  \u001b[97mWordUnionComponent total: 0.0101 sec.\u001b[0m\n",
      "100%|██████████| 2/2 [00:00<00:00, 52.12it/s]\n",
      "\u001b[32m[0725 06:11.49 @config.py:66]\u001b[0m  \u001b[5m\u001b[35mWRN\u001b[0m  \u001b[97mLoading config /root/.cache/deepdoctection/configs/dd/d2/cell/CASCADE_RCNN_R_50_FPN_GN.yaml with yaml.unsafe_load. Your machine may be at risk if the file contains malicious content.\u001b[0m\n",
      "\u001b[32m[0725 06:11.50 @detection_checkpoint.py:38]\u001b[0m  \u001b[32mINF\u001b[0m  \u001b[97m[DetectionCheckpointer] Loading from /root/.cache/deepdoctection/weights/cell/d2_model_1849999_cell_inf_only.pt ...\u001b[0m\n",
      "\u001b[32m[0725 06:11.50 @checkpoint.py:150]\u001b[0m  \u001b[32mINF\u001b[0m  \u001b[97m[Checkpointer] Loading from /root/.cache/deepdoctection/weights/cell/d2_model_1849999_cell_inf_only.pt ...\u001b[0m\n",
      "\u001b[32m[0725 06:11.51 @config.py:66]\u001b[0m  \u001b[5m\u001b[35mWRN\u001b[0m  \u001b[97mLoading config /root/.cache/deepdoctection/configs/dd/d2/cell/CASCADE_RCNN_R_50_FPN_GN.yaml with yaml.unsafe_load. Your machine may be at risk if the file contains malicious content.\u001b[0m\n"
     ]
    },
    {
     "name": "stdout",
     "output_type": "stream",
     "text": [
      "Generated markdown tables: ['<table title=\"\" description=\"\"><tr><td>Customer</td><td>A</td><td>Date</td><td>11.7.2022</td></tr><tr><td>Project</td><td>Signal Takers Fun</td><td>Engineer</td><td>Harry Potter</td></tr><tr><td>HEX Type</td><td>S22-IG16-77-TKTM94</td><td>Contact Person</td><td></td></tr><tr><td>Units Connected</td><td>1 (Parallel)</td><td>E-mail</td><td></td></tr></table>']\n"
     ]
    },
    {
     "name": "stderr",
     "output_type": "stream",
     "text": [
      "\u001b[32m[0725 06:11.52 @detection_checkpoint.py:38]\u001b[0m  \u001b[32mINF\u001b[0m  \u001b[97m[DetectionCheckpointer] Loading from /root/.cache/deepdoctection/weights/cell/d2_model_1849999_cell_inf_only.pt ...\u001b[0m\n",
      "\u001b[32m[0725 06:11.52 @checkpoint.py:150]\u001b[0m  \u001b[32mINF\u001b[0m  \u001b[97m[Checkpointer] Loading from /root/.cache/deepdoctection/weights/cell/d2_model_1849999_cell_inf_only.pt ...\u001b[0m\n",
      "/root/miniconda3/envs/layout_analysis/lib/python3.12/site-packages/torch/nn/modules/conv.py:456: UserWarning: Plan failed with a cudnnException: CUDNN_BACKEND_EXECUTION_PLAN_DESCRIPTOR: cudnnFinalize Descriptor Failed cudnn_status: CUDNN_STATUS_NOT_SUPPORTED (Triggered internally at /opt/conda/conda-bld/pytorch_1712608847532/work/aten/src/ATen/native/cudnn/Conv_v8.cpp:919.)\n",
      "  return F.conv2d(input, weight, bias, self.stride,\n",
      "\u001b[32m[0725 06:11.54 @config.py:66]\u001b[0m  \u001b[5m\u001b[35mWRN\u001b[0m  \u001b[97mLoading config /root/.cache/deepdoctection/configs/dd/d2/cell/CASCADE_RCNN_R_50_FPN_GN.yaml with yaml.unsafe_load. Your machine may be at risk if the file contains malicious content.\u001b[0m\n"
     ]
    },
    {
     "name": "stdout",
     "output_type": "stream",
     "text": [
      "Generated markdown tables: ['<table title=\"\" description=\"\"><tr><td>Specifications</td><td>Unit</td><td>Side 1</td><td></td><td>Side 2</td></tr><tr><td>HEX Type</td><td></td><td></td><td>S22-IG16-77-TKTM94</td><td></td></tr><tr><td>Number of Plates</td><td></td><td></td><td></td><td></td></tr><tr><td>Grouping</td><td></td><td></td><td>1x38 + 0x0 / 1x38 + 0x0</td><td></td></tr><tr><td>Plate Thickness</td><td>mm</td><td></td><td>2x 0,40 (Industry)</td><td></td></tr><tr><td>Plate Material / Ratio</td><td></td><td></td><td>AISI316L / 37%</td><td></td></tr><tr><td>Effective Area</td><td>m²</td><td></td><td>20,25</td><td></td></tr><tr><td>Gasket Material</td><td></td><td></td><td>NBRH (SonderLock)</td><td></td></tr><tr><td>Frame</td><td></td><td></td><td>IG, painted frame</td><td></td></tr><tr><td></td><td>mm</td><td></td><td>108 1039</td><td></td></tr><tr><td></td><td></td><td></td><td></td><td></td></tr><tr><td>Weight, empty/operating</td><td>kg</td><td></td><td>455,64 / 511,45</td><td></td></tr><tr><td>Paint Category</td><td></td><td></td><td>Category C2L</td><td></td></tr><tr><td>Paint Color</td><td></td><td></td><td>SPEC RAL COLOR</td><td></td></tr><tr><td>Inlet Connection</td><td></td><td></td><td>F1: DN 100 Flange rubberlined PN16 HT</td><td>F3: DN 100 Flange rubberlined PN16 HT</td></tr><tr><td>Outlet</td><td></td><td></td><td>F4: DN 100 Flange rubberlined PN16 HT</td><td>F2: DN 100 Flange rubberlined PN16 HT</td></tr><tr><td>Certification/Approval Type</td><td></td><td></td><td>DNVGL - Class II</td><td></td></tr><tr><td>Minimum Design Temperature Maximum Design Temperature</td><td>°C</td><td></td><td></td><td></td></tr><tr><td>Maximum Design Temperature</td><td>°C</td><td></td><td>100,0</td><td></td></tr><tr><td>Maximum Differential Pressure</td><td>bar</td><td></td><td>12,0</td><td></td></tr><tr><td>Maximum Test Pressure</td><td>bar</td><td></td><td>18,0</td><td></td></tr><tr><td>Maximum Design Pressure</td><td>bar</td><td>12,0</td><td></td><td>12,0</td></tr></table>']\n"
     ]
    },
    {
     "name": "stderr",
     "output_type": "stream",
     "text": [
      "\u001b[32m[0725 06:11.55 @detection_checkpoint.py:38]\u001b[0m  \u001b[32mINF\u001b[0m  \u001b[97m[DetectionCheckpointer] Loading from /root/.cache/deepdoctection/weights/cell/d2_model_1849999_cell_inf_only.pt ...\u001b[0m\n",
      "\u001b[32m[0725 06:11.55 @checkpoint.py:150]\u001b[0m  \u001b[32mINF\u001b[0m  \u001b[97m[Checkpointer] Loading from /root/.cache/deepdoctection/weights/cell/d2_model_1849999_cell_inf_only.pt ...\u001b[0m\n",
      "\u001b[32m[0725 06:11.56 @config.py:66]\u001b[0m  \u001b[5m\u001b[35mWRN\u001b[0m  \u001b[97mLoading config /root/.cache/deepdoctection/configs/dd/d2/cell/CASCADE_RCNN_R_50_FPN_GN.yaml with yaml.unsafe_load. Your machine may be at risk if the file contains malicious content.\u001b[0m\n"
     ]
    },
    {
     "name": "stdout",
     "output_type": "stream",
     "text": [
      "Generated markdown tables: ['<table title=\"\" description=\"\"><tr><td>Properties of Fluid</td><td>Unit</td><td>Side 1</td><td>Side 2</td></tr><tr><td>Fluid</td><td></td><td>Water</td><td>Water</td></tr><tr><td>Liquid Viscosity</td><td>mPa·s</td><td>0,3412</td><td>0,5289</td></tr><tr><td>Liquid Density</td><td>kg/m³</td><td>970,3710</td><td>987,8257</td></tr><tr><td>Liquid Heat Capacity</td><td>kJ/kg.K</td><td>4,1988</td><td>4,1804</td></tr><tr><td>Liquid Thermal Conductivity</td><td>W/m·K</td><td>0,6693</td><td>0,6418</td></tr></table>']\n"
     ]
    },
    {
     "name": "stderr",
     "output_type": "stream",
     "text": [
      "\u001b[32m[0725 06:11.57 @detection_checkpoint.py:38]\u001b[0m  \u001b[32mINF\u001b[0m  \u001b[97m[DetectionCheckpointer] Loading from /root/.cache/deepdoctection/weights/cell/d2_model_1849999_cell_inf_only.pt ...\u001b[0m\n",
      "\u001b[32m[0725 06:11.57 @checkpoint.py:150]\u001b[0m  \u001b[32mINF\u001b[0m  \u001b[97m[Checkpointer] Loading from /root/.cache/deepdoctection/weights/cell/d2_model_1849999_cell_inf_only.pt ...\u001b[0m\n",
      "/root/miniconda3/envs/layout_analysis/lib/python3.12/site-packages/torch/nn/modules/conv.py:456: UserWarning: Plan failed with a cudnnException: CUDNN_BACKEND_EXECUTION_PLAN_DESCRIPTOR: cudnnFinalize Descriptor Failed cudnn_status: CUDNN_STATUS_NOT_SUPPORTED (Triggered internally at /opt/conda/conda-bld/pytorch_1712608847532/work/aten/src/ATen/native/cudnn/Conv_v8.cpp:919.)\n",
      "  return F.conv2d(input, weight, bias, self.stride,\n",
      "\u001b[32m[0725 06:11.58 @config.py:66]\u001b[0m  \u001b[5m\u001b[35mWRN\u001b[0m  \u001b[97mLoading config /root/.cache/deepdoctection/configs/dd/d2/cell/CASCADE_RCNN_R_50_FPN_GN.yaml with yaml.unsafe_load. Your machine may be at risk if the file contains malicious content.\u001b[0m\n"
     ]
    },
    {
     "name": "stdout",
     "output_type": "stream",
     "text": [
      "Generated markdown tables: ['<table title=\"\" description=\"\"><tr><td>Calculated Parameters</td><td>Unit</td><td>Side 1</td><td></td><td>Side 2</td></tr><tr><td>Flow Type</td><td></td><td></td><td>CounterCurrent</td><td></td></tr><tr><td>Heat Load</td><td>kW</td><td></td><td>2500,00</td><td></td></tr><tr><td>Inlet Temperature</td><td>°C</td><td>91,0</td><td></td><td>43,2</td></tr><tr><td>Outlet Temperature</td><td>°C</td><td>76,3</td><td></td><td>61,3</td></tr><tr><td>Mass Flow Rate</td><td>kg/s</td><td>40,43</td><td></td><td>32,93</td></tr><tr><td>Volumetric Flow Rate</td><td>L/min</td><td>2500,00</td><td></td><td>2000,00</td></tr><tr><td>Total Pressure Drop</td><td>kPa</td><td>59,66</td><td></td><td>38,60</td></tr><tr><td>Pressure Drop in Port</td><td>kPa</td><td>15,48</td><td></td><td>9,91</td></tr><tr><td>Surface Margin</td><td>%</td><td></td><td>0,0</td><td></td></tr><tr><td>LMTD</td><td>K</td><td></td><td>31,4</td><td></td></tr><tr><td>HTC (Available/Required)</td><td>W/m²·K</td><td></td><td>3937 / 3937</td><td></td></tr><tr><td>Port Velocity</td><td>m/s</td><td>5,31</td><td></td><td>4,24</td></tr><tr><td>Shear Stress</td><td>Pa</td><td>118,28</td><td></td><td>76,83</td></tr></table>']\n"
     ]
    },
    {
     "name": "stderr",
     "output_type": "stream",
     "text": [
      "\u001b[32m[0725 06:11.59 @detection_checkpoint.py:38]\u001b[0m  \u001b[32mINF\u001b[0m  \u001b[97m[DetectionCheckpointer] Loading from /root/.cache/deepdoctection/weights/cell/d2_model_1849999_cell_inf_only.pt ...\u001b[0m\n",
      "\u001b[32m[0725 06:11.59 @checkpoint.py:150]\u001b[0m  \u001b[32mINF\u001b[0m  \u001b[97m[Checkpointer] Loading from /root/.cache/deepdoctection/weights/cell/d2_model_1849999_cell_inf_only.pt ...\u001b[0m\n",
      "\u001b[32m[0725 06:12.00 @config.py:66]\u001b[0m  \u001b[5m\u001b[35mWRN\u001b[0m  \u001b[97mLoading config /root/.cache/deepdoctection/configs/dd/d2/cell/CASCADE_RCNN_R_50_FPN_GN.yaml with yaml.unsafe_load. Your machine may be at risk if the file contains malicious content.\u001b[0m\n"
     ]
    },
    {
     "name": "stdout",
     "output_type": "stream",
     "text": [
      "Generated markdown tables: ['<table title=\"\" description=\"\"></table>']\n"
     ]
    },
    {
     "name": "stderr",
     "output_type": "stream",
     "text": [
      "\u001b[32m[0725 06:12.01 @detection_checkpoint.py:38]\u001b[0m  \u001b[32mINF\u001b[0m  \u001b[97m[DetectionCheckpointer] Loading from /root/.cache/deepdoctection/weights/cell/d2_model_1849999_cell_inf_only.pt ...\u001b[0m\n",
      "\u001b[32m[0725 06:12.01 @checkpoint.py:150]\u001b[0m  \u001b[32mINF\u001b[0m  \u001b[97m[Checkpointer] Loading from /root/.cache/deepdoctection/weights/cell/d2_model_1849999_cell_inf_only.pt ...\u001b[0m\n",
      "/root/miniconda3/envs/layout_analysis/lib/python3.12/site-packages/torch/nn/modules/conv.py:456: UserWarning: Plan failed with a cudnnException: CUDNN_BACKEND_EXECUTION_PLAN_DESCRIPTOR: cudnnFinalize Descriptor Failed cudnn_status: CUDNN_STATUS_NOT_SUPPORTED (Triggered internally at /opt/conda/conda-bld/pytorch_1712608847532/work/aten/src/ATen/native/cudnn/Conv_v8.cpp:919.)\n",
      "  return F.conv2d(input, weight, bias, self.stride,\n",
      "\u001b[32m[0725 06:12.03 @config.py:66]\u001b[0m  \u001b[5m\u001b[35mWRN\u001b[0m  \u001b[97mLoading config /root/.cache/deepdoctection/configs/dd/d2/cell/CASCADE_RCNN_R_50_FPN_GN.yaml with yaml.unsafe_load. Your machine may be at risk if the file contains malicious content.\u001b[0m\n"
     ]
    },
    {
     "name": "stdout",
     "output_type": "stream",
     "text": [
      "Generated markdown tables: ['<table title=\"\" description=\"\"><tr><td></td><td>�18</td></tr><tr><td>Nozzle Loads DN100</td><td></td></tr><tr><td>2285 16 Pressure (bar) Force (N) Fx=Fy=Fz</td><td></td></tr></table>']\n"
     ]
    },
    {
     "name": "stderr",
     "output_type": "stream",
     "text": [
      "\u001b[32m[0725 06:12.04 @detection_checkpoint.py:38]\u001b[0m  \u001b[32mINF\u001b[0m  \u001b[97m[DetectionCheckpointer] Loading from /root/.cache/deepdoctection/weights/cell/d2_model_1849999_cell_inf_only.pt ...\u001b[0m\n",
      "\u001b[32m[0725 06:12.04 @checkpoint.py:150]\u001b[0m  \u001b[32mINF\u001b[0m  \u001b[97m[Checkpointer] Loading from /root/.cache/deepdoctection/weights/cell/d2_model_1849999_cell_inf_only.pt ...\u001b[0m\n",
      "/root/miniconda3/envs/layout_analysis/lib/python3.12/site-packages/torch/nn/modules/conv.py:456: UserWarning: Plan failed with a cudnnException: CUDNN_BACKEND_EXECUTION_PLAN_DESCRIPTOR: cudnnFinalize Descriptor Failed cudnn_status: CUDNN_STATUS_NOT_SUPPORTED (Triggered internally at /opt/conda/conda-bld/pytorch_1712608847532/work/aten/src/ATen/native/cudnn/Conv_v8.cpp:919.)\n",
      "  return F.conv2d(input, weight, bias, self.stride,\n"
     ]
    },
    {
     "name": "stdout",
     "output_type": "stream",
     "text": [
      "Generated markdown tables: ['<table title=\"\" description=\"\"></table>']\n",
      "Round:  0\n"
     ]
    },
    {
     "name": "stderr",
     "output_type": "stream",
     "text": [
      "Processing content chunks:   0%|          | 0/1 [00:00<?, ?it/s]"
     ]
    },
    {
     "name": "stdout",
     "output_type": "stream",
     "text": [
      "Estimated input token:  2564\n"
     ]
    },
    {
     "name": "stderr",
     "output_type": "stream",
     "text": [
      "\u001b[32m[0725 06:12.15 @_client.py:1026]\u001b[0m  \u001b[32mINF\u001b[0m  \u001b[97mHTTP Request: POST https://api.openai.com/v1/chat/completions \"HTTP/1.1 200 OK\"\u001b[0m\n",
      "Processing content chunks: 100%|██████████| 1/1 [00:10<00:00, 10.81s/it]\n"
     ]
    },
    {
     "name": "stdout",
     "output_type": "stream",
     "text": [
      "Actual Token Usage:  ('completion_tokens', 336) ('prompt_tokens', 4726) ('total_tokens', 5062)\n",
      "Round:  1\n"
     ]
    },
    {
     "name": "stderr",
     "output_type": "stream",
     "text": [
      "Processing content chunks:   0%|          | 0/1 [00:00<?, ?it/s]"
     ]
    },
    {
     "name": "stdout",
     "output_type": "stream",
     "text": [
      "Estimated input token:  2983\n"
     ]
    },
    {
     "name": "stderr",
     "output_type": "stream",
     "text": [
      "\u001b[32m[0725 06:12.23 @_client.py:1026]\u001b[0m  \u001b[32mINF\u001b[0m  \u001b[97mHTTP Request: POST https://api.openai.com/v1/chat/completions \"HTTP/1.1 200 OK\"\u001b[0m\n",
      "Processing content chunks: 100%|██████████| 1/1 [00:08<00:00,  8.35s/it]\n"
     ]
    },
    {
     "name": "stdout",
     "output_type": "stream",
     "text": [
      "Actual Token Usage:  ('completion_tokens', 336) ('prompt_tokens', 5145) ('total_tokens', 5481)\n",
      "Round:  2\n"
     ]
    },
    {
     "name": "stderr",
     "output_type": "stream",
     "text": [
      "Processing content chunks:   0%|          | 0/1 [00:00<?, ?it/s]"
     ]
    },
    {
     "name": "stdout",
     "output_type": "stream",
     "text": [
      "Estimated input token:  2983\n"
     ]
    },
    {
     "name": "stderr",
     "output_type": "stream",
     "text": [
      "\u001b[32m[0725 06:12.37 @_client.py:1026]\u001b[0m  \u001b[32mINF\u001b[0m  \u001b[97mHTTP Request: POST https://api.openai.com/v1/chat/completions \"HTTP/1.1 200 OK\"\u001b[0m\n",
      "Processing content chunks: 100%|██████████| 1/1 [00:13<00:00, 13.22s/it]"
     ]
    },
    {
     "name": "stdout",
     "output_type": "stream",
     "text": [
      "Actual Token Usage:  ('completion_tokens', 336) ('prompt_tokens', 5145) ('total_tokens', 5481)\n"
     ]
    },
    {
     "name": "stderr",
     "output_type": "stream",
     "text": [
      "\n"
     ]
    }
   ],
   "source": [
    "parameters_pred = meri.run(json_schema_string=json.dumps(schema))"
   ]
  },
  {
   "cell_type": "code",
   "execution_count": 5,
   "metadata": {},
   "outputs": [
    {
     "data": {
      "text/plain": [
       "{'title': {'text': 'Danfoss HEXSelector 1.3.3',\n",
       "  'bbox': [32.029998779296875, 97.654296875, 579.1057739257812, 106.642578125],\n",
       "  'pageIndex': 0},\n",
       " 'technicalSpecifications': {'HE16_DESIGN_POWER': {'parameter_properties': {'value': 2500,\n",
       "    'text': '2500,00 kW',\n",
       "    'unit': 'kW',\n",
       "    'bbox': [30, 173, 580, 335],\n",
       "    'pageIndex': 0}},\n",
       "  'HE16_PLATE_THICKNESS': {'parameter_properties': {'value': 0.4,\n",
       "    'text': '2x 0,40 (Industry) mm',\n",
       "    'unit': 'mm',\n",
       "    'bbox': [30, 420, 580, 695],\n",
       "    'pageIndex': 0}},\n",
       "  'HE16_PLATE_MATERIAL': {'value': 'AISI316L',\n",
       "   'text': 'AISI316L / 37%',\n",
       "   'bbox': [30, 420, 580, 695],\n",
       "   'pageIndex': 0},\n",
       "  'HE16_PLATE_NUMBER': {'parameter_properties': {'value': 38,\n",
       "    'text': '1x38 + 0x0 / 1x38 + 0x0',\n",
       "    'unit': '',\n",
       "    'bbox': [30, 420, 580, 695],\n",
       "    'pageIndex': 0}},\n",
       "  'HE16_PLATE_LENGTH': {'parameter_properties': {'value': 1039,\n",
       "    'text': '108 1039 mm',\n",
       "    'unit': 'mm',\n",
       "    'bbox': [30, 420, 580, 695],\n",
       "    'pageIndex': 0}}},\n",
       " 'notFoundList': ['HE16_HT_COEFF_1_2',\n",
       "  'HE16_HT_COEFF_3_4',\n",
       "  'HE16_PLATE_BREADTH',\n",
       "  'HE16_PLATE_DISTANCE_1_2',\n",
       "  'HE16_PLATE_DISTANCE_3_4']}"
      ]
     },
     "execution_count": 5,
     "metadata": {},
     "output_type": "execute_result"
    }
   ],
   "source": [
    "parameters_pred"
   ]
  },
  {
   "cell_type": "markdown",
   "metadata": {},
   "source": [
    "- check that prediction follows json schem\n",
    "- create all json queries answered in gt and then check if they are in prediction"
   ]
  },
  {
   "cell_type": "code",
   "execution_count": 31,
   "metadata": {},
   "outputs": [],
   "source": [
    "jsonpath_queries = build_jsonpath_queries(parameters_gt, ignore_keys=['notFoundList', 'bbox'], termination_keys = ['bbox'])\n",
    "\n",
    "\n",
    "extacted_and_correct = ExtractionResults() # correctly extracted value\n",
    "extacted_and_incorrect = ExtractionResults() # value extracted, but wrong\n",
    "not_extracted = ExtractionResults() # value not extracted\n",
    "total = 0\n",
    "\n",
    "for query in jsonpath_queries:\n",
    "    jsonpath_expr = parse(query)\n",
    "\n",
    "    gt_res: List[DatumInContext] = jsonpath_expr.find(parameters_gt)\n",
    "    pred_res: List[DatumInContext] = jsonpath_expr.find(parameters_pred)\n",
    "\n",
    "    # queries are specific, no wildcards. So we only expect one result per query\n",
    "    assert len(gt_res) == 1 and len(pred_res) <= 1\n",
    "\n",
    "    ## check if value is dict, then skip. else evaluate\n",
    "    gt_value = gt_res[0].value\n",
    "    if isinstance(gt_value, dict):\n",
    "        continue\n",
    "\n",
    "    total += 1\n",
    "    # check if query has response in prediction\n",
    "    if len(pred_res) == 0:\n",
    "        not_extracted.append(ExtractionResultItem(query, gt_value, None))\n",
    "        continue\n",
    "\n",
    "    pred_value = pred_res[0].value\n",
    "    res_item = ExtractionResultItem(query, gt_value, pred_value)\n",
    "\n",
    "    # TODO compute IOU\n",
    "\n",
    "    if pred_value == gt_value:\n",
    "        extacted_and_correct.append(res_item)\n",
    "    else:\n",
    "        extacted_and_incorrect.append(res_item)\n",
    "    "
   ]
  },
  {
   "cell_type": "code",
   "execution_count": 32,
   "metadata": {},
   "outputs": [
    {
     "data": {
      "text/plain": [
       "'$.technicalSpecifications.HE16_HT_COEFF_1_2.parameter_properties'"
      ]
     },
     "execution_count": 32,
     "metadata": {},
     "output_type": "execute_result"
    }
   ],
   "source": [
    "x = not_extracted.children_as_group('$.technicalSpecifications')[1]\n",
    "x.longest_subquery"
   ]
  },
  {
   "cell_type": "code",
   "execution_count": 33,
   "metadata": {},
   "outputs": [
    {
     "data": {
      "text/plain": [
       "[{'json_query': '$.title.pageIndex', 'gt_value': 0, 'pred_value': 0},\n",
       " {'json_query': '$.technicalSpecifications.HE16_DESIGN_POWER.parameter_properties.value',\n",
       "  'gt_value': 2500.0,\n",
       "  'pred_value': 2500.0},\n",
       " {'json_query': '$.technicalSpecifications.HE16_DESIGN_POWER.parameter_properties.text',\n",
       "  'gt_value': '2500,00 kW',\n",
       "  'pred_value': '2500,00 kW'},\n",
       " {'json_query': '$.technicalSpecifications.HE16_DESIGN_POWER.parameter_properties.unit',\n",
       "  'gt_value': 'kW',\n",
       "  'pred_value': 'kW'},\n",
       " {'json_query': '$.technicalSpecifications.HE16_PLATE_THICKNESS.parameter_properties.unit',\n",
       "  'gt_value': 'mm',\n",
       "  'pred_value': 'mm'}]"
      ]
     },
     "execution_count": 33,
     "metadata": {},
     "output_type": "execute_result"
    }
   ],
   "source": [
    "extacted_and_correct.to_list()\n"
   ]
  }
 ],
 "metadata": {
  "kernelspec": {
   "display_name": "layout_analysis",
   "language": "python",
   "name": "python3"
  },
  "language_info": {
   "codemirror_mode": {
    "name": "ipython",
    "version": 3
   },
   "file_extension": ".py",
   "mimetype": "text/x-python",
   "name": "python",
   "nbconvert_exporter": "python",
   "pygments_lexer": "ipython3",
   "version": "3.12.3"
  }
 },
 "nbformat": 4,
 "nbformat_minor": 2
}
